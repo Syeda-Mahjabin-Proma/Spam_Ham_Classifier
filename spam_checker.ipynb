{
  "nbformat": 4,
  "nbformat_minor": 0,
  "metadata": {
    "colab": {
      "provenance": [],
      "authorship_tag": "ABX9TyNmoXzQV9VfQuag/oHMTnIQ"
    },
    "kernelspec": {
      "name": "python3",
      "display_name": "Python 3"
    },
    "language_info": {
      "name": "python"
    }
  },
  "cells": [
    {
      "cell_type": "markdown",
      "source": [
        "## Import Libraries"
      ],
      "metadata": {
        "id": "svJg7IVmI8jA"
      }
    },
    {
      "cell_type": "code",
      "source": [
        "import pandas as pd\n",
        "import numpy as np\n",
        "import pickle\n",
        "import requests\n",
        "import re\n",
        "import string"
      ],
      "metadata": {
        "id": "UBtWI6OiJAyU"
      },
      "execution_count": 2,
      "outputs": []
    },
    {
      "cell_type": "markdown",
      "source": [
        "## Download Model from Github"
      ],
      "metadata": {
        "id": "bFGo84NuJFs_"
      }
    },
    {
      "cell_type": "code",
      "source": [
        "url_nb_model = \"https://raw.githubusercontent.com/Syeda-Mahjabin-Proma/Spam_Ham_Classifier/main/naive_bayes_model.pkl\"\n",
        "url_vectorizer = \"https://raw.githubusercontent.com/Syeda-Mahjabin-Proma/Spam_Ham_Classifier/main/tfidf_vectorizer.pkl\""
      ],
      "metadata": {
        "id": "WJdowawwIqOQ"
      },
      "execution_count": 3,
      "outputs": []
    },
    {
      "cell_type": "markdown",
      "source": [
        "## Save and Load"
      ],
      "metadata": {
        "id": "cWmtd5ipJOBi"
      }
    },
    {
      "cell_type": "code",
      "source": [
        "with open(\"naive_bayes_model.pkl\", \"wb\") as f:\n",
        "    f.write(requests.get(url_nb_model).content)\n",
        "with open(\"tfidf_vectorizer.pkl\", \"wb\") as f:\n",
        "    f.write(requests.get(url_vectorizer).content)\n",
        "\n",
        "with open(\"naive_bayes_model.pkl\", \"rb\") as f:\n",
        "    nb_model = pickle.load(f)\n",
        "with open(\"tfidf_vectorizer.pkl\", \"rb\") as f:\n",
        "    tfidf_vectorizer = pickle.load(f)\n",
        "\n",
        "print(\"Model and vectorizer loaded successfully!\")"
      ],
      "metadata": {
        "id": "NDbyRjHdIuCT",
        "outputId": "b603ef2d-5d8c-4243-c976-6adf32618506",
        "colab": {
          "base_uri": "https://localhost:8080/"
        }
      },
      "execution_count": 4,
      "outputs": [
        {
          "output_type": "stream",
          "name": "stdout",
          "text": [
            "Model and vectorizer loaded successfully!\n"
          ]
        }
      ]
    },
    {
      "cell_type": "markdown",
      "source": [
        "## Clean Email Body"
      ],
      "metadata": {
        "id": "m5VGIJD2e7uA"
      }
    },
    {
      "cell_type": "code",
      "source": [
        "def clean_email_text(text):\n",
        "    if pd.isna(text):\n",
        "        return \"\"\n",
        "\n",
        "    text = re.sub(r\"From:.*\\n\", \"\", text)\n",
        "    text = re.sub(r\"Subject:.*\\n\", \"\", text)\n",
        "    text = text.lower()\n",
        "    text = text.translate(str.maketrans(\"\", \"\", string.punctuation))\n",
        "    text = re.sub(r\"\\d+\", \"\", text)\n",
        "    text = re.sub(r\"\\s+\", \" \", text).strip()\n",
        "    return text\n"
      ],
      "metadata": {
        "id": "g8zL9KSnkhd8"
      },
      "execution_count": 5,
      "outputs": []
    },
    {
      "cell_type": "markdown",
      "source": [
        "## Testing with real-world data"
      ],
      "metadata": {
        "id": "DZ4R6Ib5e0k_"
      }
    },
    {
      "cell_type": "code",
      "source": [
        "email_body = 'Notifications involving money owed to you are enticing, aren’t they? “Our records show you overpaid for (a product or service). Kindly supply your bank routing and account number to receive your refund.” Don’t fall for it.'\n",
        "cleaned_email = clean_email_text(email_body)\n",
        "\n",
        "email_vector = tfidf_vectorizer.transform([cleaned_email])\n",
        "prediction = nb_model.predict(email_vector)[0]\n",
        "\n",
        "if prediction == 0:\n",
        "    print(\"This email looks safe. It's HAM.\")\n",
        "else:\n",
        "    print(\"Warning!!! This email is likely SPAM. Proceed with caution.\")\n"
      ],
      "metadata": {
        "id": "aP073eRRe3F6",
        "outputId": "048f3bc6-b17e-44c2-cd9a-75338e27955b",
        "colab": {
          "base_uri": "https://localhost:8080/"
        }
      },
      "execution_count": 9,
      "outputs": [
        {
          "output_type": "stream",
          "name": "stdout",
          "text": [
            "Warning!!! This email is likely SPAM. Proceed with caution.\n"
          ]
        }
      ]
    },
    {
      "cell_type": "code",
      "source": [
        "email_body = \"You recognize the sender and are expecting their message, such as a confirmation for an online order or a response to a customer service request. \"\n",
        "cleaned_email = clean_email_text(email_body)\n",
        "\n",
        "email_vector = tfidf_vectorizer.transform([cleaned_email])\n",
        "prediction = nb_model.predict(email_vector)[0]\n",
        "\n",
        "if prediction == 0:\n",
        "    print(\"This email looks safe. It's HAM.\")\n",
        "else:\n",
        "    print(\"Warning!!! This email is likely SPAM. Proceed with caution.\")\n"
      ],
      "metadata": {
        "id": "qqvUm-1vfDpB",
        "outputId": "248ebe7c-c7d3-4e43-bdb4-4972394bf4ef",
        "colab": {
          "base_uri": "https://localhost:8080/"
        }
      },
      "execution_count": 8,
      "outputs": [
        {
          "output_type": "stream",
          "name": "stdout",
          "text": [
            "This email looks safe. It's HAM.\n"
          ]
        }
      ]
    },
    {
      "cell_type": "markdown",
      "source": [
        "## Check the Model By Yourself"
      ],
      "metadata": {
        "id": "TfR6itSBKJjL"
      }
    },
    {
      "cell_type": "code",
      "source": [
        "email_body = input(\"Enter your Email Body or SMS: \")\n",
        "cleaned_email = clean_email_text(email_body)\n",
        "\n",
        "email_vector = tfidf_vectorizer.transform([cleaned_email])\n",
        "prediction = nb_model.predict(email_vector)[0]\n",
        "print()\n",
        "\n",
        "if prediction == 0:\n",
        "    print(\"This email looks safe. It's HAM.\")\n",
        "else:\n",
        "    print(\"Warning!!! This email is likely SPAM. Proceed with caution.\")\n"
      ],
      "metadata": {
        "id": "lPla0d1_KEs7",
        "colab": {
          "base_uri": "https://localhost:8080/"
        },
        "outputId": "e7a0dc83-2d84-46ac-bdb8-7208521bef00"
      },
      "execution_count": 10,
      "outputs": [
        {
          "output_type": "stream",
          "name": "stdout",
          "text": [
            "Enter your Email Body or SMS: abc\n",
            "\n",
            "This email looks safe. It's HAM.\n"
          ]
        }
      ]
    }
  ]
}