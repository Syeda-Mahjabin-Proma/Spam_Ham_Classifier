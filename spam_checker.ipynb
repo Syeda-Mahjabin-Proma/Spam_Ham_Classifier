{
  "nbformat": 4,
  "nbformat_minor": 0,
  "metadata": {
    "colab": {
      "provenance": [],
      "authorship_tag": "ABX9TyO2N0TPMydvUYp2gNL8PffW"
    },
    "kernelspec": {
      "name": "python3",
      "display_name": "Python 3"
    },
    "language_info": {
      "name": "python"
    }
  },
  "cells": [
    {
      "cell_type": "code",
      "execution_count": 1,
      "metadata": {
        "colab": {
          "base_uri": "https://localhost:8080/"
        },
        "id": "S57g0fzWhL3h",
        "outputId": "6a2063db-092a-4e72-f36a-ef909995fd84"
      },
      "outputs": [
        {
          "output_type": "stream",
          "name": "stdout",
          "text": [
            "Model and vectorizer loaded successfully!\n"
          ]
        }
      ],
      "source": [
        "import pickle\n",
        "\n",
        "# Load the model\n",
        "with open(\"naive_bayes_model.pkl\", \"rb\") as f:\n",
        "    nb_model = pickle.load(f)\n",
        "\n",
        "# Load the vectorizer\n",
        "with open(\"tfidf_vectorizer.pkl\", \"rb\") as f:\n",
        "    tfidf_vectorizer = pickle.load(f)\n",
        "\n",
        "print(\"Model and vectorizer loaded successfully!\")\n"
      ]
    },
    {
      "cell_type": "code",
      "source": [
        "import re\n",
        "import string\n",
        "\n",
        "def clean_input_text(text):\n",
        "    text = text.lower()\n",
        "    text = text.translate(str.maketrans(\"\", \"\", string.punctuation))\n",
        "    text = re.sub(r\"\\d+\", \"\", text)\n",
        "    text = re.sub(r\"\\s+\", \" \", text).strip()\n",
        "    return text\n",
        "\n",
        "custom_email = input(\"Enter your email text: \")\n",
        "cleaned_email = clean_input_text(custom_email)\n",
        "\n",
        "email_vector = tfidf_vectorizer.transform([cleaned_email])\n",
        "prediction = nb_model.predict(email_vector)[0]\n",
        "print()\n",
        "\n",
        "if prediction == 0:\n",
        "    print(\"This email looks safe. It's HAM.\")\n",
        "else:\n",
        "    print(\"Warning!!! This email is likely SPAM. Proceed with caution.\")\n"
      ],
      "metadata": {
        "colab": {
          "base_uri": "https://localhost:8080/"
        },
        "id": "g8zL9KSnkhd8",
        "outputId": "07b86cfe-d25b-4a53-e776-bef8384d824d"
      },
      "execution_count": 2,
      "outputs": [
        {
          "output_type": "stream",
          "name": "stdout",
          "text": [
            "Enter your email text: hellooo\n",
            "\n",
            "This email looks safe. It's HAM.\n"
          ]
        }
      ]
    }
  ]
}