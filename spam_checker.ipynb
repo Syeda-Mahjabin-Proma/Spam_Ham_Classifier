{
  "nbformat": 4,
  "nbformat_minor": 0,
  "metadata": {
    "colab": {
      "provenance": [],
      "toc_visible": true,
      "authorship_tag": "ABX9TyPmldfajCFDUnoY789Op+Cq"
    },
    "kernelspec": {
      "name": "python3",
      "display_name": "Python 3"
    },
    "language_info": {
      "name": "python"
    }
  },
  "cells": [
    {
      "cell_type": "markdown",
      "source": [
        "## Inport Libraries"
      ],
      "metadata": {
        "id": "svJg7IVmI8jA"
      }
    },
    {
      "cell_type": "code",
      "source": [
        "import pickle\n",
        "import requests\n",
        "import re\n",
        "import string"
      ],
      "metadata": {
        "id": "UBtWI6OiJAyU"
      },
      "execution_count": 8,
      "outputs": []
    },
    {
      "cell_type": "markdown",
      "source": [
        "## Download Model from Github"
      ],
      "metadata": {
        "id": "bFGo84NuJFs_"
      }
    },
    {
      "cell_type": "code",
      "source": [
        "url_nb_model = \"https://raw.githubusercontent.com/Syeda-Mahjabin-Proma/Spam_Ham_Classifier/main/naive_bayes_model.pkl\"\n",
        "url_vectorizer = \"https://raw.githubusercontent.com/Syeda-Mahjabin-Proma/Spam_Ham_Classifier/main/tfidf_vectorizer.pkl\""
      ],
      "metadata": {
        "id": "WJdowawwIqOQ"
      },
      "execution_count": 6,
      "outputs": []
    },
    {
      "cell_type": "markdown",
      "source": [
        "## Save and Load"
      ],
      "metadata": {
        "id": "cWmtd5ipJOBi"
      }
    },
    {
      "cell_type": "code",
      "source": [
        "with open(\"naive_bayes_model.pkl\", \"wb\") as f:\n",
        "    f.write(requests.get(url_nb_model).content)\n",
        "with open(\"tfidf_vectorizer.pkl\", \"wb\") as f:\n",
        "    f.write(requests.get(url_vectorizer).content)\n",
        "\n",
        "with open(\"naive_bayes_model.pkl\", \"rb\") as f:\n",
        "    nb_model = pickle.load(f)\n",
        "with open(\"tfidf_vectorizer.pkl\", \"rb\") as f:\n",
        "    tfidf_vectorizer = pickle.load(f)\n",
        "\n",
        "print(\"Model and vectorizer loaded successfully!\")"
      ],
      "metadata": {
        "id": "NDbyRjHdIuCT",
        "outputId": "249936ff-ffd0-40e5-ea9a-e6bf5fac3ecf",
        "colab": {
          "base_uri": "https://localhost:8080/"
        }
      },
      "execution_count": 7,
      "outputs": [
        {
          "output_type": "stream",
          "name": "stdout",
          "text": [
            "Model and vectorizer loaded successfully!\n"
          ]
        }
      ]
    },
    {
      "cell_type": "markdown",
      "source": [
        "## Check the Model"
      ],
      "metadata": {
        "id": "TfR6itSBKJjL"
      }
    },
    {
      "cell_type": "code",
      "source": [
        "def clean_input_text(text):\n",
        "    text = text.lower()\n",
        "    text = text.translate(str.maketrans(\"\", \"\", string.punctuation))\n",
        "    text = re.sub(r\"\\d+\", \"\", text)\n",
        "    text = re.sub(r\"\\s+\", \" \", text).strip()\n",
        "    return text\n",
        "\n",
        "email_body = input(\"Enter your Email Body or SMS: \")\n",
        "cleaned_email = clean_input_text(email_body)\n",
        "\n",
        "email_vector = tfidf_vectorizer.transform([cleaned_email])\n",
        "prediction = nb_model.predict(email_vector)[0]\n",
        "print()\n",
        "\n",
        "if prediction == 0:\n",
        "    print(\"This email looks safe. It's HAM.\")\n",
        "else:\n",
        "    print(\"Warning!!! This email is likely SPAM. Proceed with caution.\")\n"
      ],
      "metadata": {
        "colab": {
          "base_uri": "https://localhost:8080/"
        },
        "id": "g8zL9KSnkhd8",
        "outputId": "ee0b070c-92d2-4093-f77b-71c09daf6d9b"
      },
      "execution_count": 10,
      "outputs": [
        {
          "output_type": "stream",
          "name": "stdout",
          "text": [
            "Enter your Email Body or SMS: Dear [Customer], our security system detected irregular activity on your account. You must click the link below to validate your account to avoid suspension within 72 hours.\n",
            "\n",
            "Warning!!! This email is likely SPAM. Proceed with caution.\n"
          ]
        }
      ]
    },
    {
      "cell_type": "code",
      "source": [],
      "metadata": {
        "id": "lPla0d1_KEs7"
      },
      "execution_count": null,
      "outputs": []
    }
  ]
}